{
 "cells": [
  {
   "cell_type": "code",
   "execution_count": 1,
   "id": "68c85816-8180-4986-8f36-ff9a0b892d83",
   "metadata": {},
   "outputs": [],
   "source": [
    "import numpy as np\n",
    "import cv2\n",
    "import face_recognition\n",
    "import os\n",
    "from tqdm import tqdm\n",
    "import shutil"
   ]
  },
  {
   "cell_type": "code",
   "execution_count": 13,
   "id": "d3e0d82a-91e9-4a3d-a4eb-d79c80c2297e",
   "metadata": {},
   "outputs": [],
   "source": [
    "import logging\n",
    "import contextlib\n",
    "import tensorflow as tf\n",
    "import warnings\n",
    "from mtcnn import MTCNN\n",
    "from tqdm import tqdm\n",
    "\n",
    "# Suppress TensorFlow logging\n",
    "os.environ['TF_CPP_MIN_LOG_LEVEL'] = '3'  # Suppress TensorFlow logs at level 3 (ERROR)\n",
    "tf.get_logger().setLevel('ERROR')\n",
    "\n",
    "# Configure logging to suppress logs from TensorFlow and MTCNN\n",
    "logging.getLogger('tensorflow').setLevel(logging.FATAL)\n",
    "logging.getLogger('mtcnn').setLevel(logging.ERROR)\n",
    "\n",
    "# Suppress warnings\n",
    "warnings.filterwarnings('ignore')\n",
    "\n",
    "# Function to suppress stdout and stderr\n",
    "@contextlib.contextmanager\n",
    "def suppress_output():\n",
    "    with open(os.devnull, 'w', encoding='utf-8') as fnull:\n",
    "        with contextlib.redirect_stdout(fnull), contextlib.redirect_stderr(fnull):\n",
    "            yield\n",
    "\n",
    "def detect_faces_mtcnn(image):\n",
    "    \"\"\"\n",
    "    Detect faces using MTCNN and return bounding boxes in a format compatible with face_recognition.\n",
    "    \"\"\"\n",
    "    with suppress_output():\n",
    "        # Initialize the MTCNN detector without printing logs\n",
    "        detector = MTCNN()\n",
    "\n",
    "        # Detect faces in the image\n",
    "        faces = detector.detect_faces(image)\n",
    "\n",
    "        # Filter faces with confidence higher than 0.70 and extract their bounding boxes\n",
    "        rectangles = []\n",
    "        for face in faces:\n",
    "            if face['confidence'] > 0.70:\n",
    "                x, y, width, height = face['box']\n",
    "                # Convert to top, right, bottom, left format\n",
    "                top, right, bottom, left = y, x + width, y + height, x\n",
    "                rectangles.append((top, right, bottom, left))\n",
    "                \n",
    "        return rectangles"
   ]
  },
  {
   "cell_type": "code",
   "execution_count": 30,
   "id": "948cbb24-c157-4ca1-8d37-d2256d7d2b88",
   "metadata": {},
   "outputs": [
    {
     "name": "stderr",
     "output_type": "stream",
     "text": [
      "100%|██████████████████████████████████████████████████████████████████████████████████| 34/34 [01:41<00:00,  2.98s/it]"
     ]
    },
    {
     "name": "stdout",
     "output_type": "stream",
     "text": [
      "Processed 32 images and extracted 32 embeddings.\n"
     ]
    },
    {
     "name": "stderr",
     "output_type": "stream",
     "text": [
      "\n"
     ]
    }
   ],
   "source": [
    "\n",
    "def get_embeddings(rgb_image, face_locations):\n",
    "    \"\"\"\n",
    "    Extract face embeddings from the given image based on face locations.\n",
    "    Args:\n",
    "    rgb_image (np.array): RGB image from which to extract embeddings.\n",
    "    face_locations (list): List of face locations in (top, right, bottom, left) format.\n",
    "    Returns:\n",
    "    list: List of face encodings.\n",
    "    \"\"\"\n",
    "    if not face_locations:\n",
    "        return []\n",
    "    # Compute face embeddings\n",
    "    face_encodings = face_recognition.face_encodings(rgb_image, face_locations)\n",
    "    return face_encodings\n",
    "\n",
    "def process_images(dirpath):\n",
    "    \"\"\"\n",
    "    Process images in the given directory to extract face embeddings.\n",
    "\n",
    "    Args:\n",
    "    dirpath (str): Path to the directory containing images.\n",
    "\n",
    "    Returns:\n",
    "    list, list: List of embeddings and list of corresponding image paths.\n",
    "    \"\"\"\n",
    "    embeddings = []\n",
    "    image_paths = []\n",
    "\n",
    "    # Iterate over all files in the directory\n",
    "    for filename in tqdm(os.listdir(dirpath)):\n",
    "        file_path = os.path.join(dirpath, filename)\n",
    "        image = cv2.imread(file_path)\n",
    "\n",
    "        # Check if the image was loaded successfully\n",
    "        if image is None:\n",
    "            print(f\"Error: Could not load image from {file_path}\")\n",
    "            continue\n",
    "\n",
    "        # Convert the image from BGR to RGB for face_recognition\n",
    "        rgb_image = cv2.cvtColor(image, cv2.COLOR_BGR2RGB)\n",
    "\n",
    "        # Detect faces and extract face images\n",
    "        face_locations = detect_faces_mtcnn(rgb_image)\n",
    "\n",
    "        # Extract embeddings for each detected face\n",
    "        face_encodings = get_embeddings(rgb_image, face_locations)\n",
    "    \n",
    "        for encoding in face_encodings:\n",
    "            embeddings.append(encoding)\n",
    "            image_paths.append(file_path)\n",
    "\n",
    "    return embeddings, image_paths\n"
   ]
  },
  {
   "cell_type": "code",
   "execution_count": null,
   "id": "cf92f109-bba6-4370-84d2-7f3ad07f839e",
   "metadata": {},
   "outputs": [],
   "source": [
    "embeddings,image_paths = process_images('./train/Faces/')"
   ]
  },
  {
   "cell_type": "code",
   "execution_count": 31,
   "id": "7d603ea1-b13e-462b-81da-aade09c3df1b",
   "metadata": {},
   "outputs": [],
   "source": [
    "from sklearn.cluster import KMeans\n",
    "\n",
    "num_clusters = 5\n",
    "\n",
    "# Apply K-means clustering on extracted features\n",
    "kmeans = KMeans(n_clusters=num_clusters, random_state=42)\n",
    "cluster_labels = kmeans.fit_predict(embeddings)"
   ]
  },
  {
   "cell_type": "code",
   "execution_count": 32,
   "id": "35e9df44-288e-4ae3-8881-12d54bf0780f",
   "metadata": {},
   "outputs": [
    {
     "data": {
      "text/plain": [
       "array([2, 2, 2, 2, 2, 0, 0, 0, 0, 0, 0, 0, 1, 1, 1, 1, 1, 1, 1, 4, 4, 4,\n",
       "       4, 4, 4, 3, 3, 3, 3, 3, 3, 3])"
      ]
     },
     "execution_count": 32,
     "metadata": {},
     "output_type": "execute_result"
    }
   ],
   "source": [
    "cluster_labels"
   ]
  },
  {
   "cell_type": "code",
   "execution_count": 33,
   "id": "5a2448b1-2072-487c-9872-b87228deef5d",
   "metadata": {},
   "outputs": [],
   "source": [
    "mapping = {}\n",
    "for i,file in enumerate(image_paths):\n",
    "    mapping[file] = cluster_labels[i]"
   ]
  },
  {
   "cell_type": "code",
   "execution_count": 34,
   "id": "f38a9afd-ee34-44b9-a176-34d09f6eec6c",
   "metadata": {},
   "outputs": [
    {
     "data": {
      "text/plain": [
       "{'./train/Faces/ajay_devgn_1.jpg': 2,\n",
       " './train/Faces/ajay_devgn_2.jpg': 2,\n",
       " './train/Faces/ajay_devgn_4.jpg': 2,\n",
       " './train/Faces/ajay_devgn_5.jpg': 2,\n",
       " './train/Faces/ajay_devgn_6.jpg': 2,\n",
       " './train/Faces/akshay_kumar_1.jpg': 0,\n",
       " './train/Faces/akshay_kumar_2.jpg': 0,\n",
       " './train/Faces/akshay_kumar_3.jpg': 0,\n",
       " './train/Faces/akshay_kumar_4.jpg': 0,\n",
       " './train/Faces/akshay_kumar_5.jpg': 0,\n",
       " './train/Faces/akshay_kumar_6.jpg': 0,\n",
       " './train/Faces/akshay_kumar_7.jpg': 0,\n",
       " './train/Faces/farida_jalal_1.jpg': 1,\n",
       " './train/Faces/farida_jalal_2.jpg': 1,\n",
       " './train/Faces/farida_jalal_3.jpg': 1,\n",
       " './train/Faces/farida_jalal_4.jpg': 1,\n",
       " './train/Faces/farida_jalal_5.jpg': 1,\n",
       " './train/Faces/farida_jalal_6.jpg': 1,\n",
       " './train/Faces/farida_jalal_7.jpg': 1,\n",
       " './train/Faces/madhuri_dixit_1.jpg': 4,\n",
       " './train/Faces/madhuri_dixit_3.jpg': 4,\n",
       " './train/Faces/madhuri_dixit_4.jpg': 4,\n",
       " './train/Faces/madhuri_dixit_5.jpg': 4,\n",
       " './train/Faces/madhuri_dixit_6.jpg': 4,\n",
       " './train/Faces/madhuri_dixit_7.jpg': 4,\n",
       " './train/Faces/saif_ali_khan_1.jpg': 3,\n",
       " './train/Faces/saif_ali_khan_2.jpg': 3,\n",
       " './train/Faces/saif_ali_khan_3.jpg': 3,\n",
       " './train/Faces/saif_ali_khan_4.jpg': 3,\n",
       " './train/Faces/saif_ali_khan_5.jpg': 3,\n",
       " './train/Faces/saif_ali_khan_6.jpg': 3,\n",
       " './train/Faces/saif_ali_khan_7.jpg': 3}"
      ]
     },
     "execution_count": 34,
     "metadata": {},
     "output_type": "execute_result"
    }
   ],
   "source": [
    "mapping"
   ]
  },
  {
   "cell_type": "code",
   "execution_count": 35,
   "id": "691ac5df-0406-4098-b483-bf21f4aa94c4",
   "metadata": {},
   "outputs": [
    {
     "name": "stdout",
     "output_type": "stream",
     "text": [
      "Copied 'ajay_devgn_1.jpg' to 'ClustersKmeans/Cluster_2/'\n",
      "Copied 'ajay_devgn_2.jpg' to 'ClustersKmeans/Cluster_2/'\n",
      "Copied 'ajay_devgn_4.jpg' to 'ClustersKmeans/Cluster_2/'\n",
      "Copied 'ajay_devgn_5.jpg' to 'ClustersKmeans/Cluster_2/'\n",
      "Copied 'ajay_devgn_6.jpg' to 'ClustersKmeans/Cluster_2/'\n",
      "Copied 'akshay_kumar_1.jpg' to 'ClustersKmeans/Cluster_0/'\n",
      "Copied 'akshay_kumar_2.jpg' to 'ClustersKmeans/Cluster_0/'\n",
      "Copied 'akshay_kumar_3.jpg' to 'ClustersKmeans/Cluster_0/'\n",
      "Copied 'akshay_kumar_4.jpg' to 'ClustersKmeans/Cluster_0/'\n",
      "Copied 'akshay_kumar_5.jpg' to 'ClustersKmeans/Cluster_0/'\n",
      "Copied 'akshay_kumar_6.jpg' to 'ClustersKmeans/Cluster_0/'\n",
      "Copied 'akshay_kumar_7.jpg' to 'ClustersKmeans/Cluster_0/'\n",
      "Copied 'farida_jalal_1.jpg' to 'ClustersKmeans/Cluster_1/'\n",
      "Copied 'farida_jalal_2.jpg' to 'ClustersKmeans/Cluster_1/'\n",
      "Copied 'farida_jalal_3.jpg' to 'ClustersKmeans/Cluster_1/'\n",
      "Copied 'farida_jalal_4.jpg' to 'ClustersKmeans/Cluster_1/'\n",
      "Copied 'farida_jalal_5.jpg' to 'ClustersKmeans/Cluster_1/'\n",
      "Copied 'farida_jalal_6.jpg' to 'ClustersKmeans/Cluster_1/'\n",
      "Copied 'farida_jalal_7.jpg' to 'ClustersKmeans/Cluster_1/'\n",
      "Copied 'madhuri_dixit_1.jpg' to 'ClustersKmeans/Cluster_4/'\n",
      "Copied 'madhuri_dixit_3.jpg' to 'ClustersKmeans/Cluster_4/'\n",
      "Copied 'madhuri_dixit_4.jpg' to 'ClustersKmeans/Cluster_4/'\n",
      "Copied 'madhuri_dixit_5.jpg' to 'ClustersKmeans/Cluster_4/'\n",
      "Copied 'madhuri_dixit_6.jpg' to 'ClustersKmeans/Cluster_4/'\n",
      "Copied 'madhuri_dixit_7.jpg' to 'ClustersKmeans/Cluster_4/'\n",
      "Copied 'saif_ali_khan_1.jpg' to 'ClustersKmeans/Cluster_3/'\n",
      "Copied 'saif_ali_khan_2.jpg' to 'ClustersKmeans/Cluster_3/'\n",
      "Copied 'saif_ali_khan_3.jpg' to 'ClustersKmeans/Cluster_3/'\n",
      "Copied 'saif_ali_khan_4.jpg' to 'ClustersKmeans/Cluster_3/'\n",
      "Copied 'saif_ali_khan_5.jpg' to 'ClustersKmeans/Cluster_3/'\n",
      "Copied 'saif_ali_khan_6.jpg' to 'ClustersKmeans/Cluster_3/'\n",
      "Copied 'saif_ali_khan_7.jpg' to 'ClustersKmeans/Cluster_3/'\n"
     ]
    }
   ],
   "source": [
    "for image_path, cluster_label in mapping.items():\n",
    "    cluster_folder = f'ClustersKmeans/Cluster_{cluster_label}/'\n",
    "    os.makedirs(cluster_folder, exist_ok=True)\n",
    "    \n",
    "    filename = os.path.basename(image_path)\n",
    "    destination_path = os.path.join(cluster_folder, filename)\n",
    "    \n",
    "    try:\n",
    "        shutil.copyfile(image_path, destination_path)\n",
    "        print(f\"Copied '{filename}' to '{cluster_folder}'\")\n",
    "    except FileNotFoundError:\n",
    "        print(f\"Error: '{filename}' not found\")\n",
    "    except FileExistsError:\n",
    "        print(f\"Error: '{filename}' already exists in '{cluster_folder}'\")"
   ]
  },
  {
   "cell_type": "code",
   "execution_count": 36,
   "id": "af795abe-a414-4679-9c78-4f5e8c8bc905",
   "metadata": {},
   "outputs": [],
   "source": [
    "from sklearn.cluster import DBSCAN\n",
    "eps = 0.5  # The maximum distance between two samples for one to be considered as in the neighborhood of the other\n",
    "min_samples = 3  # The number of samples (or total weight) in a neighborhood for a point to be considered as a core point\n",
    "dbscan = DBSCAN(eps=eps, min_samples=min_samples)\n",
    "cluster_labels = dbscan.fit_predict(embeddings)\n"
   ]
  },
  {
   "cell_type": "code",
   "execution_count": null,
   "id": "6bf28105-5d63-4dd3-bce6-e88b43173c5a",
   "metadata": {},
   "outputs": [],
   "source": [
    "mapping = {}\n",
    "for i,file in enumerate(image_paths):\n",
    "    mapping[file] = cluster_labels[i]"
   ]
  },
  {
   "cell_type": "code",
   "execution_count": null,
   "id": "3c298395-3afe-40d6-8c91-92dfeeb0d5c1",
   "metadata": {},
   "outputs": [],
   "source": [
    "for image_path, cluster_label in mapping.items():\n",
    "    cluster_folder = f'ClustersDBSCAN_BIG_DS/Cluster_{cluster_label}/'\n",
    "    os.makedirs(cluster_folder, exist_ok=True)\n",
    "    \n",
    "    filename = os.path.basename(image_path)\n",
    "    destination_path = os.path.join(cluster_folder, filename)\n",
    "\n",
    "    try:\n",
    "        shutil.copyfile(image_path, destination_path)\n",
    "        print(f\"Copied '{filename}' to '{cluster_folder}'\")\n",
    "    except FileNotFoundError:\n",
    "        print(f\"Error: '{filename}' not found\")\n",
    "    except FileExistsError:\n",
    "        print(f\"Error: '{filename}' already exists in '{cluster_folder}'\")"
   ]
  },
  {
   "cell_type": "code",
   "execution_count": null,
   "id": "d2c08e85-4a4f-4665-90fc-054e9e60b040",
   "metadata": {},
   "outputs": [],
   "source": []
  },
  {
   "cell_type": "code",
   "execution_count": 39,
   "id": "fb806711-119f-438d-b27c-efbebd85cf71",
   "metadata": {},
   "outputs": [
    {
     "name": "stderr",
     "output_type": "stream",
     "text": [
      " 69%|███████████████████████████████████████████████████████▏                        | 171/248 [11:37<05:14,  4.08s/it]\n"
     ]
    },
    {
     "ename": "KeyboardInterrupt",
     "evalue": "",
     "output_type": "error",
     "traceback": [
      "\u001b[1;31m---------------------------------------------------------------------------\u001b[0m",
      "\u001b[1;31mKeyboardInterrupt\u001b[0m                         Traceback (most recent call last)",
      "Cell \u001b[1;32mIn[39], line 1\u001b[0m\n\u001b[1;32m----> 1\u001b[0m embeddings,image_paths \u001b[38;5;241m=\u001b[39m process_images(\u001b[38;5;124m'\u001b[39m\u001b[38;5;124m./train2/\u001b[39m\u001b[38;5;124m'\u001b[39m)\n",
      "Cell \u001b[1;32mIn[30], line 98\u001b[0m, in \u001b[0;36mprocess_images\u001b[1;34m(dirpath)\u001b[0m\n\u001b[0;32m     95\u001b[0m rgb_image \u001b[38;5;241m=\u001b[39m cv2\u001b[38;5;241m.\u001b[39mcvtColor(image, cv2\u001b[38;5;241m.\u001b[39mCOLOR_BGR2RGB)\n\u001b[0;32m     97\u001b[0m \u001b[38;5;66;03m# Detect faces and extract face images\u001b[39;00m\n\u001b[1;32m---> 98\u001b[0m face_locations \u001b[38;5;241m=\u001b[39m detect_faces_mtcnn(rgb_image)\n\u001b[0;32m    100\u001b[0m \u001b[38;5;66;03m# Extract embeddings for each detected face\u001b[39;00m\n\u001b[0;32m    101\u001b[0m face_encodings \u001b[38;5;241m=\u001b[39m get_embeddings(rgb_image, face_locations)\n",
      "Cell \u001b[1;32mIn[30], line 39\u001b[0m, in \u001b[0;36mdetect_faces_mtcnn\u001b[1;34m(image)\u001b[0m\n\u001b[0;32m     36\u001b[0m detector \u001b[38;5;241m=\u001b[39m MTCNN()\n\u001b[0;32m     38\u001b[0m \u001b[38;5;66;03m# Detect faces in the image\u001b[39;00m\n\u001b[1;32m---> 39\u001b[0m faces \u001b[38;5;241m=\u001b[39m detector\u001b[38;5;241m.\u001b[39mdetect_faces(image)\n\u001b[0;32m     41\u001b[0m \u001b[38;5;66;03m# Filter faces with confidence higher than 0.70 and extract their bounding boxes\u001b[39;00m\n\u001b[0;32m     42\u001b[0m rectangles \u001b[38;5;241m=\u001b[39m []\n",
      "File \u001b[1;32mC:\\ProgramData\\anaconda3\\Lib\\site-packages\\mtcnn\\mtcnn.py:300\u001b[0m, in \u001b[0;36mMTCNN.detect_faces\u001b[1;34m(self, img)\u001b[0m\n\u001b[0;32m    298\u001b[0m \u001b[38;5;66;03m# We pipe here each of the stages\u001b[39;00m\n\u001b[0;32m    299\u001b[0m \u001b[38;5;28;01mfor\u001b[39;00m stage \u001b[38;5;129;01min\u001b[39;00m stages:\n\u001b[1;32m--> 300\u001b[0m     result \u001b[38;5;241m=\u001b[39m stage(img, result[\u001b[38;5;241m0\u001b[39m], result[\u001b[38;5;241m1\u001b[39m])\n\u001b[0;32m    302\u001b[0m [total_boxes, points] \u001b[38;5;241m=\u001b[39m result\n\u001b[0;32m    304\u001b[0m bounding_boxes \u001b[38;5;241m=\u001b[39m []\n",
      "File \u001b[1;32mC:\\ProgramData\\anaconda3\\Lib\\site-packages\\mtcnn\\mtcnn.py:342\u001b[0m, in \u001b[0;36mMTCNN.__stage1\u001b[1;34m(self, image, scales, stage_status)\u001b[0m\n\u001b[0;32m    339\u001b[0m img_x \u001b[38;5;241m=\u001b[39m np\u001b[38;5;241m.\u001b[39mexpand_dims(scaled_image, \u001b[38;5;241m0\u001b[39m)\n\u001b[0;32m    340\u001b[0m img_y \u001b[38;5;241m=\u001b[39m np\u001b[38;5;241m.\u001b[39mtranspose(img_x, (\u001b[38;5;241m0\u001b[39m, \u001b[38;5;241m2\u001b[39m, \u001b[38;5;241m1\u001b[39m, \u001b[38;5;241m3\u001b[39m))\n\u001b[1;32m--> 342\u001b[0m out \u001b[38;5;241m=\u001b[39m \u001b[38;5;28mself\u001b[39m\u001b[38;5;241m.\u001b[39m_pnet\u001b[38;5;241m.\u001b[39mpredict(img_y)\n\u001b[0;32m    344\u001b[0m out0 \u001b[38;5;241m=\u001b[39m np\u001b[38;5;241m.\u001b[39mtranspose(out[\u001b[38;5;241m0\u001b[39m], (\u001b[38;5;241m0\u001b[39m, \u001b[38;5;241m2\u001b[39m, \u001b[38;5;241m1\u001b[39m, \u001b[38;5;241m3\u001b[39m))\n\u001b[0;32m    345\u001b[0m out1 \u001b[38;5;241m=\u001b[39m np\u001b[38;5;241m.\u001b[39mtranspose(out[\u001b[38;5;241m1\u001b[39m], (\u001b[38;5;241m0\u001b[39m, \u001b[38;5;241m2\u001b[39m, \u001b[38;5;241m1\u001b[39m, \u001b[38;5;241m3\u001b[39m))\n",
      "File \u001b[1;32mC:\\ProgramData\\anaconda3\\Lib\\site-packages\\keras\\src\\utils\\traceback_utils.py:117\u001b[0m, in \u001b[0;36mfilter_traceback.<locals>.error_handler\u001b[1;34m(*args, **kwargs)\u001b[0m\n\u001b[0;32m    115\u001b[0m filtered_tb \u001b[38;5;241m=\u001b[39m \u001b[38;5;28;01mNone\u001b[39;00m\n\u001b[0;32m    116\u001b[0m \u001b[38;5;28;01mtry\u001b[39;00m:\n\u001b[1;32m--> 117\u001b[0m     \u001b[38;5;28;01mreturn\u001b[39;00m fn(\u001b[38;5;241m*\u001b[39margs, \u001b[38;5;241m*\u001b[39m\u001b[38;5;241m*\u001b[39mkwargs)\n\u001b[0;32m    118\u001b[0m \u001b[38;5;28;01mexcept\u001b[39;00m \u001b[38;5;167;01mException\u001b[39;00m \u001b[38;5;28;01mas\u001b[39;00m e:\n\u001b[0;32m    119\u001b[0m     filtered_tb \u001b[38;5;241m=\u001b[39m _process_traceback_frames(e\u001b[38;5;241m.\u001b[39m__traceback__)\n",
      "File \u001b[1;32mC:\\ProgramData\\anaconda3\\Lib\\site-packages\\keras\\src\\backend\\tensorflow\\trainer.py:508\u001b[0m, in \u001b[0;36mTensorFlowTrainer.predict\u001b[1;34m(self, x, batch_size, verbose, steps, callbacks)\u001b[0m\n\u001b[0;32m    506\u001b[0m callbacks\u001b[38;5;241m.\u001b[39mon_predict_batch_begin(step)\n\u001b[0;32m    507\u001b[0m data \u001b[38;5;241m=\u001b[39m get_data(iterator)\n\u001b[1;32m--> 508\u001b[0m batch_outputs \u001b[38;5;241m=\u001b[39m \u001b[38;5;28mself\u001b[39m\u001b[38;5;241m.\u001b[39mpredict_function(data)\n\u001b[0;32m    509\u001b[0m outputs \u001b[38;5;241m=\u001b[39m append_to_outputs(batch_outputs, outputs)\n\u001b[0;32m    510\u001b[0m callbacks\u001b[38;5;241m.\u001b[39mon_predict_batch_end(step, {\u001b[38;5;124m\"\u001b[39m\u001b[38;5;124moutputs\u001b[39m\u001b[38;5;124m\"\u001b[39m: batch_outputs})\n",
      "File \u001b[1;32m~\\AppData\\Roaming\\Python\\Python312\\site-packages\\tensorflow\\python\\util\\traceback_utils.py:150\u001b[0m, in \u001b[0;36mfilter_traceback.<locals>.error_handler\u001b[1;34m(*args, **kwargs)\u001b[0m\n\u001b[0;32m    148\u001b[0m filtered_tb \u001b[38;5;241m=\u001b[39m \u001b[38;5;28;01mNone\u001b[39;00m\n\u001b[0;32m    149\u001b[0m \u001b[38;5;28;01mtry\u001b[39;00m:\n\u001b[1;32m--> 150\u001b[0m   \u001b[38;5;28;01mreturn\u001b[39;00m fn(\u001b[38;5;241m*\u001b[39margs, \u001b[38;5;241m*\u001b[39m\u001b[38;5;241m*\u001b[39mkwargs)\n\u001b[0;32m    151\u001b[0m \u001b[38;5;28;01mexcept\u001b[39;00m \u001b[38;5;167;01mException\u001b[39;00m \u001b[38;5;28;01mas\u001b[39;00m e:\n\u001b[0;32m    152\u001b[0m   filtered_tb \u001b[38;5;241m=\u001b[39m _process_traceback_frames(e\u001b[38;5;241m.\u001b[39m__traceback__)\n",
      "File \u001b[1;32m~\\AppData\\Roaming\\Python\\Python312\\site-packages\\tensorflow\\python\\eager\\polymorphic_function\\polymorphic_function.py:833\u001b[0m, in \u001b[0;36mFunction.__call__\u001b[1;34m(self, *args, **kwds)\u001b[0m\n\u001b[0;32m    830\u001b[0m compiler \u001b[38;5;241m=\u001b[39m \u001b[38;5;124m\"\u001b[39m\u001b[38;5;124mxla\u001b[39m\u001b[38;5;124m\"\u001b[39m \u001b[38;5;28;01mif\u001b[39;00m \u001b[38;5;28mself\u001b[39m\u001b[38;5;241m.\u001b[39m_jit_compile \u001b[38;5;28;01melse\u001b[39;00m \u001b[38;5;124m\"\u001b[39m\u001b[38;5;124mnonXla\u001b[39m\u001b[38;5;124m\"\u001b[39m\n\u001b[0;32m    832\u001b[0m \u001b[38;5;28;01mwith\u001b[39;00m OptionalXlaContext(\u001b[38;5;28mself\u001b[39m\u001b[38;5;241m.\u001b[39m_jit_compile):\n\u001b[1;32m--> 833\u001b[0m   result \u001b[38;5;241m=\u001b[39m \u001b[38;5;28mself\u001b[39m\u001b[38;5;241m.\u001b[39m_call(\u001b[38;5;241m*\u001b[39margs, \u001b[38;5;241m*\u001b[39m\u001b[38;5;241m*\u001b[39mkwds)\n\u001b[0;32m    835\u001b[0m new_tracing_count \u001b[38;5;241m=\u001b[39m \u001b[38;5;28mself\u001b[39m\u001b[38;5;241m.\u001b[39mexperimental_get_tracing_count()\n\u001b[0;32m    836\u001b[0m without_tracing \u001b[38;5;241m=\u001b[39m (tracing_count \u001b[38;5;241m==\u001b[39m new_tracing_count)\n",
      "File \u001b[1;32m~\\AppData\\Roaming\\Python\\Python312\\site-packages\\tensorflow\\python\\eager\\polymorphic_function\\polymorphic_function.py:878\u001b[0m, in \u001b[0;36mFunction._call\u001b[1;34m(self, *args, **kwds)\u001b[0m\n\u001b[0;32m    875\u001b[0m \u001b[38;5;28mself\u001b[39m\u001b[38;5;241m.\u001b[39m_lock\u001b[38;5;241m.\u001b[39mrelease()\n\u001b[0;32m    876\u001b[0m \u001b[38;5;66;03m# In this case we have not created variables on the first call. So we can\u001b[39;00m\n\u001b[0;32m    877\u001b[0m \u001b[38;5;66;03m# run the first trace but we should fail if variables are created.\u001b[39;00m\n\u001b[1;32m--> 878\u001b[0m results \u001b[38;5;241m=\u001b[39m tracing_compilation\u001b[38;5;241m.\u001b[39mcall_function(\n\u001b[0;32m    879\u001b[0m     args, kwds, \u001b[38;5;28mself\u001b[39m\u001b[38;5;241m.\u001b[39m_variable_creation_config\n\u001b[0;32m    880\u001b[0m )\n\u001b[0;32m    881\u001b[0m \u001b[38;5;28;01mif\u001b[39;00m \u001b[38;5;28mself\u001b[39m\u001b[38;5;241m.\u001b[39m_created_variables:\n\u001b[0;32m    882\u001b[0m   \u001b[38;5;28;01mraise\u001b[39;00m \u001b[38;5;167;01mValueError\u001b[39;00m(\u001b[38;5;124m\"\u001b[39m\u001b[38;5;124mCreating variables on a non-first call to a function\u001b[39m\u001b[38;5;124m\"\u001b[39m\n\u001b[0;32m    883\u001b[0m                    \u001b[38;5;124m\"\u001b[39m\u001b[38;5;124m decorated with tf.function.\u001b[39m\u001b[38;5;124m\"\u001b[39m)\n",
      "File \u001b[1;32m~\\AppData\\Roaming\\Python\\Python312\\site-packages\\tensorflow\\python\\eager\\polymorphic_function\\tracing_compilation.py:139\u001b[0m, in \u001b[0;36mcall_function\u001b[1;34m(args, kwargs, tracing_options)\u001b[0m\n\u001b[0;32m    137\u001b[0m bound_args \u001b[38;5;241m=\u001b[39m function\u001b[38;5;241m.\u001b[39mfunction_type\u001b[38;5;241m.\u001b[39mbind(\u001b[38;5;241m*\u001b[39margs, \u001b[38;5;241m*\u001b[39m\u001b[38;5;241m*\u001b[39mkwargs)\n\u001b[0;32m    138\u001b[0m flat_inputs \u001b[38;5;241m=\u001b[39m function\u001b[38;5;241m.\u001b[39mfunction_type\u001b[38;5;241m.\u001b[39munpack_inputs(bound_args)\n\u001b[1;32m--> 139\u001b[0m \u001b[38;5;28;01mreturn\u001b[39;00m function\u001b[38;5;241m.\u001b[39m_call_flat(  \u001b[38;5;66;03m# pylint: disable=protected-access\u001b[39;00m\n\u001b[0;32m    140\u001b[0m     flat_inputs, captured_inputs\u001b[38;5;241m=\u001b[39mfunction\u001b[38;5;241m.\u001b[39mcaptured_inputs\n\u001b[0;32m    141\u001b[0m )\n",
      "File \u001b[1;32m~\\AppData\\Roaming\\Python\\Python312\\site-packages\\tensorflow\\python\\eager\\polymorphic_function\\concrete_function.py:1322\u001b[0m, in \u001b[0;36mConcreteFunction._call_flat\u001b[1;34m(self, tensor_inputs, captured_inputs)\u001b[0m\n\u001b[0;32m   1318\u001b[0m possible_gradient_type \u001b[38;5;241m=\u001b[39m gradients_util\u001b[38;5;241m.\u001b[39mPossibleTapeGradientTypes(args)\n\u001b[0;32m   1319\u001b[0m \u001b[38;5;28;01mif\u001b[39;00m (possible_gradient_type \u001b[38;5;241m==\u001b[39m gradients_util\u001b[38;5;241m.\u001b[39mPOSSIBLE_GRADIENT_TYPES_NONE\n\u001b[0;32m   1320\u001b[0m     \u001b[38;5;129;01mand\u001b[39;00m executing_eagerly):\n\u001b[0;32m   1321\u001b[0m   \u001b[38;5;66;03m# No tape is watching; skip to running the function.\u001b[39;00m\n\u001b[1;32m-> 1322\u001b[0m   \u001b[38;5;28;01mreturn\u001b[39;00m \u001b[38;5;28mself\u001b[39m\u001b[38;5;241m.\u001b[39m_inference_function\u001b[38;5;241m.\u001b[39mcall_preflattened(args)\n\u001b[0;32m   1323\u001b[0m forward_backward \u001b[38;5;241m=\u001b[39m \u001b[38;5;28mself\u001b[39m\u001b[38;5;241m.\u001b[39m_select_forward_and_backward_functions(\n\u001b[0;32m   1324\u001b[0m     args,\n\u001b[0;32m   1325\u001b[0m     possible_gradient_type,\n\u001b[0;32m   1326\u001b[0m     executing_eagerly)\n\u001b[0;32m   1327\u001b[0m forward_function, args_with_tangents \u001b[38;5;241m=\u001b[39m forward_backward\u001b[38;5;241m.\u001b[39mforward()\n",
      "File \u001b[1;32m~\\AppData\\Roaming\\Python\\Python312\\site-packages\\tensorflow\\python\\eager\\polymorphic_function\\atomic_function.py:216\u001b[0m, in \u001b[0;36mAtomicFunction.call_preflattened\u001b[1;34m(self, args)\u001b[0m\n\u001b[0;32m    214\u001b[0m \u001b[38;5;28;01mdef\u001b[39;00m \u001b[38;5;21mcall_preflattened\u001b[39m(\u001b[38;5;28mself\u001b[39m, args: Sequence[core\u001b[38;5;241m.\u001b[39mTensor]) \u001b[38;5;241m-\u001b[39m\u001b[38;5;241m>\u001b[39m Any:\n\u001b[0;32m    215\u001b[0m \u001b[38;5;250m  \u001b[39m\u001b[38;5;124;03m\"\"\"Calls with flattened tensor inputs and returns the structured output.\"\"\"\u001b[39;00m\n\u001b[1;32m--> 216\u001b[0m   flat_outputs \u001b[38;5;241m=\u001b[39m \u001b[38;5;28mself\u001b[39m\u001b[38;5;241m.\u001b[39mcall_flat(\u001b[38;5;241m*\u001b[39margs)\n\u001b[0;32m    217\u001b[0m   \u001b[38;5;28;01mreturn\u001b[39;00m \u001b[38;5;28mself\u001b[39m\u001b[38;5;241m.\u001b[39mfunction_type\u001b[38;5;241m.\u001b[39mpack_output(flat_outputs)\n",
      "File \u001b[1;32m~\\AppData\\Roaming\\Python\\Python312\\site-packages\\tensorflow\\python\\eager\\polymorphic_function\\atomic_function.py:251\u001b[0m, in \u001b[0;36mAtomicFunction.call_flat\u001b[1;34m(self, *args)\u001b[0m\n\u001b[0;32m    249\u001b[0m \u001b[38;5;28;01mwith\u001b[39;00m record\u001b[38;5;241m.\u001b[39mstop_recording():\n\u001b[0;32m    250\u001b[0m   \u001b[38;5;28;01mif\u001b[39;00m \u001b[38;5;28mself\u001b[39m\u001b[38;5;241m.\u001b[39m_bound_context\u001b[38;5;241m.\u001b[39mexecuting_eagerly():\n\u001b[1;32m--> 251\u001b[0m     outputs \u001b[38;5;241m=\u001b[39m \u001b[38;5;28mself\u001b[39m\u001b[38;5;241m.\u001b[39m_bound_context\u001b[38;5;241m.\u001b[39mcall_function(\n\u001b[0;32m    252\u001b[0m         \u001b[38;5;28mself\u001b[39m\u001b[38;5;241m.\u001b[39mname,\n\u001b[0;32m    253\u001b[0m         \u001b[38;5;28mlist\u001b[39m(args),\n\u001b[0;32m    254\u001b[0m         \u001b[38;5;28mlen\u001b[39m(\u001b[38;5;28mself\u001b[39m\u001b[38;5;241m.\u001b[39mfunction_type\u001b[38;5;241m.\u001b[39mflat_outputs),\n\u001b[0;32m    255\u001b[0m     )\n\u001b[0;32m    256\u001b[0m   \u001b[38;5;28;01melse\u001b[39;00m:\n\u001b[0;32m    257\u001b[0m     outputs \u001b[38;5;241m=\u001b[39m make_call_op_in_graph(\n\u001b[0;32m    258\u001b[0m         \u001b[38;5;28mself\u001b[39m,\n\u001b[0;32m    259\u001b[0m         \u001b[38;5;28mlist\u001b[39m(args),\n\u001b[0;32m    260\u001b[0m         \u001b[38;5;28mself\u001b[39m\u001b[38;5;241m.\u001b[39m_bound_context\u001b[38;5;241m.\u001b[39mfunction_call_options\u001b[38;5;241m.\u001b[39mas_attrs(),\n\u001b[0;32m    261\u001b[0m     )\n",
      "File \u001b[1;32m~\\AppData\\Roaming\\Python\\Python312\\site-packages\\tensorflow\\python\\eager\\context.py:1500\u001b[0m, in \u001b[0;36mContext.call_function\u001b[1;34m(self, name, tensor_inputs, num_outputs)\u001b[0m\n\u001b[0;32m   1498\u001b[0m cancellation_context \u001b[38;5;241m=\u001b[39m cancellation\u001b[38;5;241m.\u001b[39mcontext()\n\u001b[0;32m   1499\u001b[0m \u001b[38;5;28;01mif\u001b[39;00m cancellation_context \u001b[38;5;129;01mis\u001b[39;00m \u001b[38;5;28;01mNone\u001b[39;00m:\n\u001b[1;32m-> 1500\u001b[0m   outputs \u001b[38;5;241m=\u001b[39m execute\u001b[38;5;241m.\u001b[39mexecute(\n\u001b[0;32m   1501\u001b[0m       name\u001b[38;5;241m.\u001b[39mdecode(\u001b[38;5;124m\"\u001b[39m\u001b[38;5;124mutf-8\u001b[39m\u001b[38;5;124m\"\u001b[39m),\n\u001b[0;32m   1502\u001b[0m       num_outputs\u001b[38;5;241m=\u001b[39mnum_outputs,\n\u001b[0;32m   1503\u001b[0m       inputs\u001b[38;5;241m=\u001b[39mtensor_inputs,\n\u001b[0;32m   1504\u001b[0m       attrs\u001b[38;5;241m=\u001b[39mattrs,\n\u001b[0;32m   1505\u001b[0m       ctx\u001b[38;5;241m=\u001b[39m\u001b[38;5;28mself\u001b[39m,\n\u001b[0;32m   1506\u001b[0m   )\n\u001b[0;32m   1507\u001b[0m \u001b[38;5;28;01melse\u001b[39;00m:\n\u001b[0;32m   1508\u001b[0m   outputs \u001b[38;5;241m=\u001b[39m execute\u001b[38;5;241m.\u001b[39mexecute_with_cancellation(\n\u001b[0;32m   1509\u001b[0m       name\u001b[38;5;241m.\u001b[39mdecode(\u001b[38;5;124m\"\u001b[39m\u001b[38;5;124mutf-8\u001b[39m\u001b[38;5;124m\"\u001b[39m),\n\u001b[0;32m   1510\u001b[0m       num_outputs\u001b[38;5;241m=\u001b[39mnum_outputs,\n\u001b[1;32m   (...)\u001b[0m\n\u001b[0;32m   1514\u001b[0m       cancellation_manager\u001b[38;5;241m=\u001b[39mcancellation_context,\n\u001b[0;32m   1515\u001b[0m   )\n",
      "File \u001b[1;32m~\\AppData\\Roaming\\Python\\Python312\\site-packages\\tensorflow\\python\\eager\\execute.py:53\u001b[0m, in \u001b[0;36mquick_execute\u001b[1;34m(op_name, num_outputs, inputs, attrs, ctx, name)\u001b[0m\n\u001b[0;32m     51\u001b[0m \u001b[38;5;28;01mtry\u001b[39;00m:\n\u001b[0;32m     52\u001b[0m   ctx\u001b[38;5;241m.\u001b[39mensure_initialized()\n\u001b[1;32m---> 53\u001b[0m   tensors \u001b[38;5;241m=\u001b[39m pywrap_tfe\u001b[38;5;241m.\u001b[39mTFE_Py_Execute(ctx\u001b[38;5;241m.\u001b[39m_handle, device_name, op_name,\n\u001b[0;32m     54\u001b[0m                                       inputs, attrs, num_outputs)\n\u001b[0;32m     55\u001b[0m \u001b[38;5;28;01mexcept\u001b[39;00m core\u001b[38;5;241m.\u001b[39m_NotOkStatusException \u001b[38;5;28;01mas\u001b[39;00m e:\n\u001b[0;32m     56\u001b[0m   \u001b[38;5;28;01mif\u001b[39;00m name \u001b[38;5;129;01mis\u001b[39;00m \u001b[38;5;129;01mnot\u001b[39;00m \u001b[38;5;28;01mNone\u001b[39;00m:\n",
      "\u001b[1;31mKeyboardInterrupt\u001b[0m: "
     ]
    }
   ],
   "source": [
    "embeddings,image_paths = process_images('./train2/')"
   ]
  },
  {
   "cell_type": "code",
   "execution_count": 41,
   "id": "5f77a53f-d147-4d11-96ec-5b5e17a5436e",
   "metadata": {},
   "outputs": [
    {
     "data": {
      "text/plain": [
       "32"
      ]
     },
     "execution_count": 41,
     "metadata": {},
     "output_type": "execute_result"
    }
   ],
   "source": [
    "len(embeddings)"
   ]
  },
  {
   "cell_type": "code",
   "execution_count": null,
   "id": "a1d415ed-6232-421b-8ab3-db44bf3d3bc9",
   "metadata": {},
   "outputs": [],
   "source": []
  },
  {
   "cell_type": "code",
   "execution_count": null,
   "id": "57b41116-d686-4f04-a249-149ef074e8d3",
   "metadata": {},
   "outputs": [],
   "source": []
  },
  {
   "cell_type": "code",
   "execution_count": null,
   "id": "d35e4bc5-0786-4f2b-bc6e-dd35afc8b6eb",
   "metadata": {},
   "outputs": [],
   "source": []
  },
  {
   "cell_type": "code",
   "execution_count": null,
   "id": "9c11b4bf-4183-4cdf-888c-99773ac00f02",
   "metadata": {},
   "outputs": [],
   "source": []
  },
  {
   "cell_type": "code",
   "execution_count": null,
   "id": "2ed6a07e-2f70-4d37-98ce-fb1b3db86c96",
   "metadata": {},
   "outputs": [],
   "source": []
  },
  {
   "cell_type": "code",
   "execution_count": null,
   "id": "9c4b0392-fe21-4785-b6f6-15d2cf073f42",
   "metadata": {},
   "outputs": [],
   "source": []
  },
  {
   "cell_type": "code",
   "execution_count": null,
   "id": "9085c3cc-7d16-4e10-aef9-9db2df02e57a",
   "metadata": {},
   "outputs": [],
   "source": []
  },
  {
   "cell_type": "code",
   "execution_count": null,
   "id": "7ced6428-4bc0-4130-bc51-80918bd4ccc7",
   "metadata": {},
   "outputs": [],
   "source": []
  }
 ],
 "metadata": {
  "kernelspec": {
   "display_name": "Python 3 (ipykernel)",
   "language": "python",
   "name": "python3"
  },
  "language_info": {
   "codemirror_mode": {
    "name": "ipython",
    "version": 3
   },
   "file_extension": ".py",
   "mimetype": "text/x-python",
   "name": "python",
   "nbconvert_exporter": "python",
   "pygments_lexer": "ipython3",
   "version": "3.12.4"
  }
 },
 "nbformat": 4,
 "nbformat_minor": 5
}
