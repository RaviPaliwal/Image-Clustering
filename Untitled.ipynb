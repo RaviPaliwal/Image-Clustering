{
 "cells": [
  {
   "cell_type": "code",
   "execution_count": 60,
   "id": "68c85816-8180-4986-8f36-ff9a0b892d83",
   "metadata": {},
   "outputs": [],
   "source": [
    "import numpy as np\n",
    "import cv2\n",
    "import face_recognition\n",
    "import os\n",
    "from tqdm import tqdm\n",
    "import shutil"
   ]
  },
  {
   "cell_type": "code",
   "execution_count": 61,
   "id": "d3e0d82a-91e9-4a3d-a4eb-d79c80c2297e",
   "metadata": {},
   "outputs": [],
   "source": [
    "import logging\n",
    "import contextlib\n",
    "import tensorflow as tf\n",
    "import warnings\n",
    "from mtcnn import MTCNN\n",
    "from tqdm import tqdm\n",
    "\n",
    "# Suppress TensorFlow logging\n",
    "os.environ['TF_CPP_MIN_LOG_LEVEL'] = '3'  # Suppress TensorFlow logs at level 3 (ERROR)\n",
    "tf.get_logger().setLevel('ERROR')\n",
    "\n",
    "# Configure logging to suppress logs from TensorFlow and MTCNN\n",
    "logging.getLogger('tensorflow').setLevel(logging.FATAL)\n",
    "logging.getLogger('mtcnn').setLevel(logging.ERROR)\n",
    "\n",
    "# Suppress warnings\n",
    "warnings.filterwarnings('ignore')\n",
    "\n",
    "# Function to suppress stdout and stderr\n",
    "@contextlib.contextmanager\n",
    "def suppress_output():\n",
    "    with open(os.devnull, 'w', encoding='utf-8') as fnull:\n",
    "        with contextlib.redirect_stdout(fnull), contextlib.redirect_stderr(fnull):\n",
    "            yield\n",
    "\n",
    "def detect_faces_mtcnn(image):\n",
    "    \"\"\"\n",
    "    Detect faces using MTCNN and return bounding boxes in a format compatible with face_recognition.\n",
    "    \"\"\"\n",
    "    with suppress_output():\n",
    "        # Initialize the MTCNN detector without printing logs\n",
    "        detector = MTCNN()\n",
    "\n",
    "        # Detect faces in the image\n",
    "        faces = detector.detect_faces(image)\n",
    "\n",
    "        # Filter faces with confidence higher than 0.70 and extract their bounding boxes\n",
    "        rectangles = []\n",
    "        for face in faces:\n",
    "            if face['confidence'] > 0.70:\n",
    "                x, y, width, height = face['box']\n",
    "                # Convert to top, right, bottom, left format\n",
    "                top, right, bottom, left = y, x + width, y + height, x\n",
    "                rectangles.append((top, right, bottom, left))\n",
    "                \n",
    "        return rectangles"
   ]
  },
  {
   "cell_type": "code",
   "execution_count": 62,
   "id": "948cbb24-c157-4ca1-8d37-d2256d7d2b88",
   "metadata": {},
   "outputs": [],
   "source": [
    "\n",
    "def get_embeddings(rgb_image, face_locations):\n",
    "    \"\"\"\n",
    "    Extract face embeddings from the given image based on face locations.\n",
    "    Args:\n",
    "    rgb_image (np.array): RGB image from which to extract embeddings.\n",
    "    face_locations (list): List of face locations in (top, right, bottom, left) format.\n",
    "    Returns:\n",
    "    list: List of face encodings.\n",
    "    \"\"\"\n",
    "    if not face_locations:\n",
    "        return []\n",
    "    # Compute face embeddings\n",
    "    face_encodings = face_recognition.face_encodings(rgb_image, face_locations)\n",
    "    return face_encodings\n",
    "\n",
    "def process_images(dirpath):\n",
    "    \"\"\"\n",
    "    Process images in the given directory to extract face embeddings.\n",
    "    Args:\n",
    "    dirpath (str): Path to the directory containing images.\n",
    "    Returns:\n",
    "    list, list: List of embeddings and list of corresponding image paths.\n",
    "    \"\"\"\n",
    "    embeddings = []\n",
    "    image_paths = []\n",
    "\n",
    "    # Iterate over all files in the directory\n",
    "    for filename in tqdm(os.listdir(dirpath)):\n",
    "        file_path = os.path.join(dirpath, filename)\n",
    "        image = cv2.imread(file_path)\n",
    "\n",
    "        # Check if the image was loaded successfully\n",
    "        if image is None:\n",
    "            print(f\"Error: Could not load image from {file_path}\")\n",
    "            continue\n",
    "\n",
    "        # Convert the image from BGR to RGB for face_recognition\n",
    "        rgb_image = cv2.cvtColor(image, cv2.COLOR_BGR2RGB)\n",
    "\n",
    "        # Detect faces and extract face images\n",
    "        face_locations = detect_faces_mtcnn(rgb_image)\n",
    "\n",
    "        # Extract embeddings for each detected face\n",
    "        face_encodings = get_embeddings(rgb_image, face_locations)\n",
    "    \n",
    "        for encoding in face_encodings:\n",
    "            embeddings.append(encoding)\n",
    "            image_paths.append(file_path)\n",
    "\n",
    "    return embeddings, image_paths\n"
   ]
  },
  {
   "cell_type": "code",
   "execution_count": 63,
   "id": "cf92f109-bba6-4370-84d2-7f3ad07f839e",
   "metadata": {},
   "outputs": [
    {
     "name": "stderr",
     "output_type": "stream",
     "text": [
      "100%|██████████████████████████████████████████████████████████████████████████████████| 10/10 [01:05<00:00,  6.51s/it]\n"
     ]
    }
   ],
   "source": [
    "dir= 'train4'\n",
    "embeddings,image_paths = process_images(dir)"
   ]
  },
  {
   "cell_type": "code",
   "execution_count": 65,
   "id": "cb3057fe-7de6-47cd-974f-5756acd1bd0f",
   "metadata": {},
   "outputs": [],
   "source": [
    "from sklearn.cluster import DBSCAN\n",
    "eps = 0.5  # The maximum distance between two samples for one to be considered as in the neighborhood of the other\n",
    "min_samples = 3  # The number of samples (or total weight) in a neighborhood for a point to be considered as a core point\n",
    "dbscan = DBSCAN(eps=eps, min_samples=min_samples)\n",
    "cluster_labels = dbscan.fit_predict(embeddings)\n"
   ]
  },
  {
   "cell_type": "code",
   "execution_count": 66,
   "id": "019faed8-dada-425c-bf8c-829a23f0ac16",
   "metadata": {},
   "outputs": [],
   "source": [
    "# from sklearn.cluster import KMeans\n",
    "\n",
    "# num_clusters = 5\n",
    "\n",
    "# # Apply K-means clustering on extracted features\n",
    "# kmeans = KMeans(n_clusters=num_clusters, random_state=42)\n",
    "# cluster_labels = kmeans.fit_predict(embeddings)"
   ]
  },
  {
   "cell_type": "code",
   "execution_count": 67,
   "id": "35e9df44-288e-4ae3-8881-12d54bf0780f",
   "metadata": {},
   "outputs": [
    {
     "data": {
      "text/plain": [
       "array([ 0,  0,  1,  1,  1,  0,  0, -1,  0,  1,  1], dtype=int64)"
      ]
     },
     "execution_count": 67,
     "metadata": {},
     "output_type": "execute_result"
    }
   ],
   "source": [
    "cluster_labels"
   ]
  },
  {
   "cell_type": "code",
   "execution_count": 68,
   "id": "5a2448b1-2072-487c-9872-b87228deef5d",
   "metadata": {},
   "outputs": [],
   "source": [
    "mapping = {}\n",
    "for i,file in enumerate(image_paths):\n",
    "    mapping[file] = cluster_labels[i]"
   ]
  },
  {
   "cell_type": "code",
   "execution_count": 69,
   "id": "691ac5df-0406-4098-b483-bf21f4aa94c4",
   "metadata": {},
   "outputs": [
    {
     "name": "stdout",
     "output_type": "stream",
     "text": [
      "Copied '1615919242148.jpg' to 'Clusters_train4/Cluster_0/'\n",
      "Copied '1615919242221.jpg' to 'Clusters_train4/Cluster_0/'\n",
      "Copied '1628522161324.jpg' to 'Clusters_train4/Cluster_1/'\n",
      "Copied '1628594944197.jpg' to 'Clusters_train4/Cluster_1/'\n",
      "Copied '1628594944261.jpg' to 'Clusters_train4/Cluster_1/'\n",
      "Copied '8deVjGlgsFmydcYzXASRyOXUGMV.jpg' to 'Clusters_train4/Cluster_0/'\n",
      "Copied '8dYyRetSRJzwVLMxhuSAhRKvJst.jpg' to 'Clusters_train4/Cluster_-1/'\n",
      "Copied '8emHWsGsfXbkEGFdUgzFNGBZfCH.jpg' to 'Clusters_train4/Cluster_0/'\n",
      "Copied 'IMG_20190302_145206.jpg' to 'Clusters_train4/Cluster_1/'\n",
      "Copied '_20191001_103914.JPG' to 'Clusters_train4/Cluster_1/'\n"
     ]
    }
   ],
   "source": [
    "for image_path, cluster_label in mapping.items():\n",
    "    cluster_folder = f'Clusters_{dir}/Cluster_{cluster_label}/'\n",
    "    os.makedirs(cluster_folder, exist_ok=True)\n",
    "    \n",
    "    filename = os.path.basename(image_path)\n",
    "    destination_path = os.path.join(cluster_folder, filename)\n",
    "    \n",
    "    try:\n",
    "        shutil.copyfile(image_path, destination_path)\n",
    "        print(f\"Copied '{filename}' to '{cluster_folder}'\")\n",
    "    except FileNotFoundError:\n",
    "        print(f\"Error: '{filename}' not found\")\n",
    "    except FileExistsError:\n",
    "        print(f\"Error: '{filename}' already exists in '{cluster_folder}'\")"
   ]
  },
  {
   "cell_type": "code",
   "execution_count": 36,
   "id": "af795abe-a414-4679-9c78-4f5e8c8bc905",
   "metadata": {},
   "outputs": [],
   "source": []
  },
  {
   "cell_type": "code",
   "execution_count": null,
   "id": "9085c3cc-7d16-4e10-aef9-9db2df02e57a",
   "metadata": {},
   "outputs": [],
   "source": []
  },
  {
   "cell_type": "code",
   "execution_count": null,
   "id": "7ced6428-4bc0-4130-bc51-80918bd4ccc7",
   "metadata": {},
   "outputs": [],
   "source": []
  }
 ],
 "metadata": {
  "kernelspec": {
   "display_name": "Python 3 (ipykernel)",
   "language": "python",
   "name": "python3"
  },
  "language_info": {
   "codemirror_mode": {
    "name": "ipython",
    "version": 3
   },
   "file_extension": ".py",
   "mimetype": "text/x-python",
   "name": "python",
   "nbconvert_exporter": "python",
   "pygments_lexer": "ipython3",
   "version": "3.12.4"
  }
 },
 "nbformat": 4,
 "nbformat_minor": 5
}
